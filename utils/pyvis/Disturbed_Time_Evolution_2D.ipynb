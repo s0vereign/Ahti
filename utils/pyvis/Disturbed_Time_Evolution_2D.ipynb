{
 "cells": [
  {
   "cell_type": "markdown",
   "metadata": {},
   "source": [
    "# 2D Time evolution visualization for cos(wt) disturbance\n",
    "## First import "
   ]
  },
  {
   "cell_type": "code",
   "execution_count": 2,
   "metadata": {
    "collapsed": true
   },
   "outputs": [],
   "source": [
    "import numpy as np\n",
    "import matplotlib.pyplot as plt\n",
    "from Loader2D import *\n",
    "%matplotlib qt5\n"
   ]
  },
  {
   "cell_type": "markdown",
   "metadata": {},
   "source": [
    "## Set Parameters"
   ]
  },
  {
   "cell_type": "code",
   "execution_count": 3,
   "metadata": {},
   "outputs": [],
   "source": [
    "filepath = \"/Users/max/git/Ahti/cmake-build-default/bin/init.h5\"\n",
    "nt = 0\n",
    "nx = 500\n",
    "ny = 500\n",
    "xmax = 6.0\n",
    "xmin = -6.0 \n",
    "ymax = xmax\n",
    "ymin = xmin\n",
    "w1 = 2.0 * np.pi / 1000.0\n",
    "a1 = 0.01 \n",
    "x = np.linspace(xmin, xmax, nx)\n",
    "y = np.linspace(ymin, ymax, ny)\n",
    "x_mesh, y_mesh = np.meshgrid(x,y)\n",
    "dt = 0.001"
   ]
  },
  {
   "cell_type": "markdown",
   "metadata": {},
   "source": [
    "## Define Potential function and time-evolution Operator"
   ]
  },
  {
   "cell_type": "code",
   "execution_count": 4,
   "metadata": {
    "collapsed": true
   },
   "outputs": [],
   "source": [
    "class W_2D:\n",
    "    \"\"\"\n",
    "    This class is an implementation of a \n",
    "    time only disturbance in order to further\n",
    "    \"\"\"\n",
    "    def __init__(self,a1,a2,w1,w2):\n",
    "        self.a1 = a1\n",
    "        self.a2 = a2\n",
    "        self.w1 = w1\n",
    "        self.w2 = w2\n",
    "    def __call__(self,t, x=0, y=0):\n",
    "        return self.a1 * np.cos(self.w1 * t) + self.a2 * np.cos(self.w2 * t)\n",
    "    \n",
    "\n",
    "class VHarm_2D:\n",
    "    \"\"\"\n",
    "    This class implements the harmonic potential \n",
    "    in two dimensions. \n",
    "    \"\"\"\n",
    "    def __init__(self):\n",
    "        pass\n",
    "    \n",
    "    def __call__(self, x, y):\n",
    "        return 0.5 * (x**2 + y**2)\n",
    "    \n"
   ]
  },
  {
   "cell_type": "markdown",
   "metadata": {},
   "source": [
    "## General analytic formula for the time evolution operator"
   ]
  },
  {
   "cell_type": "raw",
   "metadata": {},
   "source": [
    "%%latex\n",
    "\\begin{align}\n",
    "\\hat{U}(t_0,t_1) &= e ^ {- \\frac{i}{\\hbar}\\int_{t_0}^{t_1}dt'\\hat{H}(t')} \\\\\n",
    "                 &= e ^{- \\frac{i}{\\hbar}(\\Delta t \\hat{H}_0 + \\int_{t0}^{t1}dt' W_1(t'))}\n",
    "\\end{align}\n"
   ]
  },
  {
   "cell_type": "markdown",
   "metadata": {},
   "source": [
    "## Define class for particular time-evolution operator"
   ]
  },
  {
   "cell_type": "code",
   "execution_count": 5,
   "metadata": {
    "collapsed": true
   },
   "outputs": [],
   "source": [
    "class U_lin_dist:\n",
    "    \"\"\"\n",
    "    Implementation of the time evolution\n",
    "    operator using the above method\n",
    "    \"\"\"\n",
    "    def __init__(self, E0, W, dt):\n",
    "        self.E0 = E0\n",
    "        self.W = W\n",
    "        self.dt = dt\n",
    "    \n",
    "    def __call__(self, t):\n",
    "        w_val = self.W(t)\n",
    "        return np.exp(-1j * (self.E0 + np.trapz(w_val, dx=self.dt)))\n"
   ]
  },
  {
   "cell_type": "markdown",
   "metadata": {},
   "source": [
    "## Define testfunction \n"
   ]
  },
  {
   "cell_type": "code",
   "execution_count": 6,
   "metadata": {},
   "outputs": [
    {
     "data": {
      "text/latex": [
       "$| \\, \\psi(t_0) \\, \\rangle$"
      ],
      "text/plain": [
       "<IPython.core.display.Latex object>"
      ]
     },
     "metadata": {},
     "output_type": "display_data"
    }
   ],
   "source": [
    "%%latex\n",
    "$| \\, \\psi(t_0) \\, \\rangle$"
   ]
  },
  {
   "cell_type": "code",
   "execution_count": 7,
   "metadata": {
    "collapsed": true
   },
   "outputs": [],
   "source": [
    "Psi0 = lambda x: np.pi**(-0.25) * np.exp(-x**2*0.5)\n",
    "Psi2D = lambda x,y: Psi0(x) * Psi0(y) "
   ]
  },
  {
   "cell_type": "markdown",
   "metadata": {},
   "source": [
    "## Init psi, potentials and time evolution operator. Apply it afterwards"
   ]
  },
  {
   "cell_type": "code",
   "execution_count": 8,
   "metadata": {
    "collapsed": true
   },
   "outputs": [],
   "source": [
    "psi_an = Psi2D(x_mesh, y_mesh) + 0 * 1j\n",
    "w = W_2D(a1, a1, w1, w1)\n",
    "U = U_lin_dist(1.0, w, dt)\n",
    "t = np.linspace(0, nt*dt,nt)\n",
    "psi_an *=  np.exp(- 1j * 1.0 * nt * dt)"
   ]
  },
  {
   "cell_type": "markdown",
   "metadata": {},
   "source": [
    "## Load File and compare results in a 2D plot"
   ]
  },
  {
   "cell_type": "code",
   "execution_count": 11,
   "metadata": {},
   "outputs": [
    {
     "name": "stdout",
     "output_type": "stream",
     "text": [
      "max. rel. error real part      0.011550817899306332\n"
     ]
    }
   ],
   "source": [
    "file = CLoader2D(nx, ny, filepath)\n",
    "\n",
    "psi_num = file.get_complex_data(\"/real\",\"/imag\")\n",
    "fig = plt.figure()\n",
    "ax = fig.gca(projection='3d')\n",
    "ax.set_xlabel(r\"x $(a.u.)$\")\n",
    "ax.set_ylabel(r\"y $(a.u.)$\")\n",
    "ax.set_zlabel(r\"$|\\psi|^2$\")\n",
    "surf = ax.plot_surface(x_mesh,\n",
    "                       y_mesh,\n",
    "                       np.abs(psi_an.real - psi_num.real),\n",
    "                       cmap=cm.magma_r,\n",
    "                       linewidth=1, \n",
    "                       antialiased=False)\n",
    "print(\"max. rel. error real part      {}\".format(np.max(np.abs(psi_an.real - psi_num.real))/np.max(np.abs(psi_an.real))))\n",
    "#print(\"max. rel. error imaginary part {}\".format(np.max(np.abs(psi_an.imag - psi_num.imag))/np.max(np.abs(psi_an.imag))))\n",
    "\n",
    "fig.colorbar(surf, shrink=0.5, aspect=5)\n",
    "plt.show()"
   ]
  },
  {
   "cell_type": "code",
   "execution_count": null,
   "metadata": {
    "collapsed": true
   },
   "outputs": [],
   "source": []
  },
  {
   "cell_type": "code",
   "execution_count": null,
   "metadata": {
    "collapsed": true
   },
   "outputs": [],
   "source": []
  }
 ],
 "metadata": {
  "kernelspec": {
   "display_name": "Python 3",
   "language": "python",
   "name": "python3"
  },
  "language_info": {
   "codemirror_mode": {
    "name": "ipython",
    "version": 3
   },
   "file_extension": ".py",
   "mimetype": "text/x-python",
   "name": "python",
   "nbconvert_exporter": "python",
   "pygments_lexer": "ipython3",
   "version": "3.6.3"
  }
 },
 "nbformat": 4,
 "nbformat_minor": 2
}
