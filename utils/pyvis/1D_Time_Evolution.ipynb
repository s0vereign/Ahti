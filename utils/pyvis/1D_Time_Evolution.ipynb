{
 "cells": [
  {
   "cell_type": "code",
   "execution_count": 2,
   "metadata": {},
   "outputs": [],
   "source": [
    "import numpy as np\n",
    "import matplotlib.pyplot as plt\n",
    "import h5py\n",
    "from fileloader import *\n",
    "%matplotlib qt5"
   ]
  },
  {
   "cell_type": "code",
   "execution_count": 7,
   "metadata": {},
   "outputs": [
    {
     "name": "stdout",
     "output_type": "stream",
     "text": [
      "Using dtype=wf\n",
      "Using dtype=wf\n"
     ]
    }
   ],
   "source": [
    "floc = \"/home/zaph0d/git/Ahti/ahti-debug/bin/time_evo_0.h5\"\n",
    "psi = load_timestep(floc, 0)\n",
    "\n",
    "dt = 0.001\n",
    "Nt = 10000\n",
    "E = 0.5\n",
    "psi *= np.exp(-1j * E * dt * Nt)\n",
    "floc = \"../../ahti-debug/bin/time_evo_1.h5\"\n",
    "psi_t = load_timestep(floc, 1)\n",
    "x = np.linspace(-6.0,6.0,1000)\n",
    "plt.plot(x, np.abs(psi.imag-psi_t.imag))\n",
    "plt.plot(x, np.abs(psi.real-psi_t.real))\n",
    "plt.xlabel(r\"Location x\")\n",
    "plt.ylabel(r\"$\\Psi$\")\n",
    "plt.show()"
   ]
  },
  {
   "cell_type": "code",
   "execution_count": null,
   "metadata": {},
   "outputs": [],
   "source": []
  }
 ],
 "metadata": {
  "kernelspec": {
   "display_name": "Python 3",
   "language": "python",
   "name": "python3"
  }
 },
 "nbformat": 4,
 "nbformat_minor": 2
}
